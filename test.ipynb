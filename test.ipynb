{
 "cells": [
  {
   "cell_type": "code",
   "execution_count": 1,
   "metadata": {},
   "outputs": [],
   "source": [
    "shows = [\"Dear Evan Hansen\", \"Hadestown\", \"Phantom of the Opera\", \"Annie\", \"Ain't To Proud\", \"Mean Girls\", \"Secret Garden\",\n",
    "\"Hairspray\", \"Six\", \"Jersey Boys\", \"Heathers\", \"Les Miserables\", \"Moulin Rouge\", \"Tina\", \"Mamma Mia\", \"Six\", \"MJ: The Musical\", \"POTUS\",\n",
    "\"Chicago\", \"The Book of Mormon\", \"The Notebook\", \"Sweeney Todd\", \"Funny Girl\", \"Come From Away\", \"Newsies\", \"Wicked\", \"Company\", \"Kimberly Akimbo\",\n",
    "\"Waitress\", \"Cabaret\", \"Fiddler on the Roof\", \"The Outsiders\", \"Back to the Future\", \"La Cage aux Folles\", \"Waiting for Godot\"]"
   ]
  },
  {
   "cell_type": "code",
   "execution_count": 20,
   "metadata": {},
   "outputs": [],
   "source": [
    "import pandas as pd \n",
    "\n",
    "df = pd.read_json('pocket_patron/scrape2.json')"
   ]
  },
  {
   "cell_type": "code",
   "execution_count": 14,
   "metadata": {},
   "outputs": [],
   "source": [
    "df['image_urls'] = df['image_urls'].apply(lambda x: x[0])"
   ]
  },
  {
   "cell_type": "code",
   "execution_count": 21,
   "metadata": {},
   "outputs": [],
   "source": [
    "def get_image_filename(x):\n",
    "    try:\n",
    "        return x[0][\"path\"][:-4] + \".png\"\n",
    "    except IndexError:\n",
    "        return None\n",
    "\n",
    "df['image_filename'] = df['images'].apply(lambda x: get_image_filename(x))"
   ]
  },
  {
   "cell_type": "code",
   "execution_count": 11,
   "metadata": {},
   "outputs": [
    {
     "data": {
      "text/plain": [
       "'string'"
      ]
     },
     "execution_count": 11,
     "metadata": {},
     "output_type": "execute_result"
    }
   ],
   "source": [
    "s = \"string.png\"\n",
    "s[:-4]"
   ]
  },
  {
   "cell_type": "code",
   "execution_count": 22,
   "metadata": {},
   "outputs": [],
   "source": [
    "s = \"Sign up for announcements and exclusive discounts on tickets to your favorite shows! Blocking belongson the stage,not on websites.Our website is made possible bydisplaying online advertisements to our visitors.Please consider supporting us bywhitelisting playbill.com with your ad blocker.Thank you!\"\n",
    "df[\"description\"] = df[\"description\"].str.replace(s,\"\")"
   ]
  },
  {
   "cell_type": "code",
   "execution_count": 23,
   "metadata": {},
   "outputs": [],
   "source": [
    "df = df.drop(columns=['images', 'tags'])"
   ]
  },
  {
   "cell_type": "code",
   "execution_count": 24,
   "metadata": {},
   "outputs": [],
   "source": [
    "df.to_csv('scrape.csv', index=False)"
   ]
  },
  {
   "cell_type": "code",
   "execution_count": 25,
   "metadata": {},
   "outputs": [],
   "source": [
    "import json\n",
    "\n",
    "# Open and read the JSON file\n",
    "with open('pocket_patron/scrape2.json', 'r', encoding='utf-8') as file:\n",
    "    data = json.load(file)\n"
   ]
  },
  {
   "cell_type": "code",
   "execution_count": 30,
   "metadata": {},
   "outputs": [
    {
     "data": {
      "text/plain": [
       "'full/2002_Hairspray'"
      ]
     },
     "execution_count": 30,
     "metadata": {},
     "output_type": "execute_result"
    }
   ],
   "source": [
    "data[500].get(\"images\")[0].get(\"path\")[:-4]"
   ]
  },
  {
   "cell_type": "code",
   "execution_count": 38,
   "metadata": {},
   "outputs": [],
   "source": [
    "from PIL import Image, ImageDraw, ImageFont\n",
    "def convert_image(image_path, theater):\n",
    "    image = Image.open(f\"pocket_patron/downloads/{image_path}\")\n",
    "    image2 = Image.open(\"pocket_patron/downloads/full/PocketPatron.png\")\n",
    "    # image = image.crop((100, 100, 400, 400))\n",
    "    draw = ImageDraw.Draw(image)\n",
    "    font = ImageFont.truetype(\"arial.ttf\", 20)\n",
    "    W, H = image.size\n",
    "    draw.rectangle((0, 0, W, 233), fill=(250, 204, 21))\n",
    "    _, _, w, h = draw.textbbox((0, 0), theater, font=font)\n",
    "    draw.text(((648-w)/2, 170), theater, font=font, fill=(0, 0, 0), align=\"center\")\n",
    "    # draw.text((30, 10), \"IMPERIAL THEATER\", font=font, fill=(0, 0, 0), align=\"center\")\n",
    "    Image.Image.paste(image, image2, (45, 40))\n",
    "    image.save(f\"new/{image_path[:-4]}.png\", \"PNG\")\n",
    "\n",
    "for show in data:\n",
    "        image_path = show[\"images\"][0][\"path\"]\n",
    "        theater = show[\"theater\"].upper().replace(\"\", \" \").strip()\n",
    "\n",
    "        convert_image(image_path, theater)\n"
   ]
  },
  {
   "cell_type": "code",
   "execution_count": 45,
   "metadata": {},
   "outputs": [
    {
     "name": "stdout",
     "output_type": "stream",
     "text": [
      "257 400\n"
     ]
    }
   ],
   "source": [
    "image_path  = \"full/1995_Fool_Moon.jpg\"\n",
    "theater = \"Gerard Schoenfeld Theatre\"\n",
    "\n",
    "image = Image.open(f\"pocket_patron/downloads/{image_path}\")\n",
    "image2 = Image.open(\"pocket_patron/downloads/full/PocketPatron.png\")\n",
    "# image = image.crop((100, 100, 400, 400))\n",
    "draw = ImageDraw.Draw(image)\n",
    "font = ImageFont.truetype(\"arial.ttf\", 20)\n",
    "W, H = image.size\n",
    "print(W, H)\n",
    "draw.rectangle((0, 0, W, H*(233/1024)), fill=(250, 204, 21))\n",
    "_, _, w, h = draw.textbbox((0, 0), theater, font=font)\n",
    "draw.text(((648-w)/2, 170), theater, font=font, fill=(0, 0, 0), align=\"center\")\n",
    "Image.Image.paste(image, image2, (45, 40))\n",
    "image.show()"
   ]
  },
  {
   "cell_type": "code",
   "execution_count": 43,
   "metadata": {},
   "outputs": [
    {
     "data": {
      "text/plain": [
       "0.2275390625"
      ]
     },
     "execution_count": 43,
     "metadata": {},
     "output_type": "execute_result"
    }
   ],
   "source": [
    "233/1024"
   ]
  },
  {
   "cell_type": "code",
   "execution_count": 50,
   "metadata": {},
   "outputs": [
    {
     "data": {
      "text/plain": [
       "'G E R W S H W I N   T H E A T E R   C I R C L E   I N   T H E   S Q U A R E'"
      ]
     },
     "execution_count": 50,
     "metadata": {},
     "output_type": "execute_result"
    }
   ],
   "source": [
    "\"Gerwshwin Theater Circle in the Square\".upper().replace(\"\", \" \").strip()"
   ]
  },
  {
   "cell_type": "code",
   "execution_count": 1,
   "metadata": {},
   "outputs": [],
   "source": [
    "import random\n",
    "import math\n",
    "\n",
    "# List of Broadway shows\n",
    "shows = [\n",
    "    \"Dear Evan Hansen\", \"Hadestown\", \"Phantom of the Opera\", \"Annie\",\n",
    "    \"Ain't Too Proud\", \"Mean Girls\", \"Secret Garden\", \"Hairspray\", \"Six\",\n",
    "    \"Jersey Boys\", \"Heathers\", \"Les Miserables\", \"Moulin Rouge\", \"Tina\",\n",
    "    \"Mamma Mia\", \"MJ: The Musical\", \"POTUS\", \"Chicago\", \"The Book of Mormon\",\n",
    "    \"The Notebook\", \"Sweeney Todd\", \"Funny Girl\", \"Come From Away\", \"Newsies\",\n",
    "    \"Wicked\", \"Company\", \"Kimberly Akimbo\", \"Waitress\", \"Cabaret\",\n",
    "    \"Fiddler on the Roof\", \"The Outsiders\", \"Back to the Future\",\n",
    "    \"La Cage aux Folles\", \"Waiting for Godot\"\n",
    "]\n",
    "\n",
    "# Initialize Elo scores\n",
    "def initialize_scores(show_list):\n",
    "    return {show: 1000 for show in show_list}\n",
    "\n",
    "scores = initialize_scores(shows)\n",
    "K = 32  # Sensitivity factor for Elo updates\n",
    "\n",
    "# Track compared pairs to avoid duplicates\n",
    "compared_pairs = set()\n",
    "\n",
    "# Elo update function\n",
    "def elo_update(winner, loser, scores):\n",
    "    R_w = scores[winner]\n",
    "    R_l = scores[loser]\n",
    "    \n",
    "    E_w = 1 / (1 + 10 ** ((R_l - R_w) / 400))\n",
    "    E_l = 1 - E_w\n",
    "    \n",
    "    scores[winner] += K * (1 - E_w)\n",
    "    scores[loser] += K * (0 - E_l)\n",
    "\n",
    "# Select optimal pair for comparison based on score difference\n",
    "def optimal_pair_selection(scores):\n",
    "    sorted_shows = sorted(scores.items(), key=lambda x: x[1])\n",
    "    optimal_pairs = []\n",
    "    for i in range(len(sorted_shows)):\n",
    "        for j in range(i + 1, len(sorted_shows)):\n",
    "            pair = (sorted_shows[i][0], sorted_shows[j][0])\n",
    "            if pair not in compared_pairs and (pair[1], pair[0]) not in compared_pairs:\n",
    "                diff = abs(sorted_shows[i][1] - sorted_shows[j][1])\n",
    "                optimal_pairs.append((pair[0], pair[1], diff))\n",
    "    optimal_pairs.sort(key=lambda x: x[2])  # Sort by smallest score difference\n",
    "    return optimal_pairs[:10]  # Return top 10 most optimal pairs\n",
    "\n",
    "# Pairwise comparison function\n",
    "def compare_shows(scores):\n",
    "    pairs = optimal_pair_selection(scores)\n",
    "    if not pairs:\n",
    "        print(\"No more unique pairs to compare.\")\n",
    "        return False\n",
    "    pair = random.choice(pairs)\n",
    "    show1, show2 = pair[0], pair[1]\n",
    "    compared_pairs.add((show1, show2))\n",
    "    print(f\"Which show do you prefer?\")\n",
    "    print(f\"1: {show1}\")\n",
    "    print(f\"2: {show2}\")\n",
    "    print(\"Type 'exit' to finish comparisons early.\")\n",
    "    choice = input(\"Enter 1, 2, or 'exit': \").strip()\n",
    "    \n",
    "    if choice == '1':\n",
    "        elo_update(show1, show2, scores)\n",
    "    elif choice == '2':\n",
    "        elo_update(show2, show1, scores)\n",
    "    elif choice.lower() == 'exit':\n",
    "        return False\n",
    "    else:\n",
    "        print(\"Invalid choice. Try again.\")\n",
    "    return True\n",
    "\n",
    "# Normalize scores to a 0–10 scale\n",
    "def normalize_scores(scores):\n",
    "    min_rating = min(scores.values())\n",
    "    max_rating = max(scores.values())\n",
    "    return {show: 10 * (score - min_rating) / (max_rating - min_rating) for show, score in scores.items()}\n",
    "\n",
    "# Display rankings\n",
    "def display_rankings(scores):\n",
    "    normalized = normalize_scores(scores)\n",
    "    ranked = sorted(normalized.items(), key=lambda x: x[1], reverse=True)\n",
    "    print(\"\\nBroadway Show Rankings:\")\n",
    "    for rank, (show, score) in enumerate(ranked, start=1):\n",
    "        print(f\"{rank}. {show} - Score: {score:.2f}\")\n",
    "\n",
    "# Calculate optimal number of comparisons\n",
    "def calculate_optimal_comparisons(num_shows):\n",
    "    total_pairs = (num_shows * (num_shows - 1)) / 2\n",
    "    optimal_comparisons = math.ceil(0.25 * total_pairs)\n",
    "    print(f\"Optimal number of comparisons for {num_shows} shows: {optimal_comparisons}\")\n",
    "    return optimal_comparisons\n",
    "\n",
    "# Interactive comparison loop\n",
    "def run_comparison_loop(num_comparisons):\n",
    "    for _ in range(num_comparisons):\n",
    "        if not compare_shows(scores):\n",
    "            break\n",
    "    display_rankings(scores)\n",
    "\n",
    "# Example usage\n",
    "# Run this in your notebook:\n",
    "# num_shows_seen = len(shows)\n",
    "# optimal_comparisons = calculate_optimal_comparisons(num_shows_seen)\n",
    "# run_comparison_loop(optimal_comparisons)\n"
   ]
  },
  {
   "cell_type": "code",
   "execution_count": 2,
   "metadata": {},
   "outputs": [
    {
     "name": "stdout",
     "output_type": "stream",
     "text": [
      "Optimal number of comparisons for 34 shows: 141\n"
     ]
    }
   ],
   "source": [
    "num_shows_seen = len(shows)\n",
    "optimal_comparisons = calculate_optimal_comparisons(num_shows_seen)"
   ]
  },
  {
   "cell_type": "code",
   "execution_count": null,
   "metadata": {},
   "outputs": [],
   "source": []
  }
 ],
 "metadata": {
  "kernelspec": {
   "display_name": "env",
   "language": "python",
   "name": "python3"
  },
  "language_info": {
   "codemirror_mode": {
    "name": "ipython",
    "version": 3
   },
   "file_extension": ".py",
   "mimetype": "text/x-python",
   "name": "python",
   "nbconvert_exporter": "python",
   "pygments_lexer": "ipython3",
   "version": "3.11.0"
  }
 },
 "nbformat": 4,
 "nbformat_minor": 2
}
